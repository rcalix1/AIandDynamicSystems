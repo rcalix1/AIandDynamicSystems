{
 "cells": [
  {
   "cell_type": "markdown",
   "id": "36fcc89f",
   "metadata": {},
   "source": [
    "\n",
    "\n",
    "## Sparse Indentification of Non-Linear Dynamics (SINDY)\n",
    "\n",
    "* Ref: J. Nathan Kutz book\n",
    "\n",
    "It tries to leverage the fact that many dynamical systems \n",
    "\n",
    "$  \\large \\frac{d}{dt} x = f(x) $\n",
    "\n",
    "have dynamics $ f $  with only a few active terms in the space of possible right-hand side functions\n",
    "\n",
    "* for example: the Lorenz equations only have a few linear and quadratic interaction terms per equation\n"
   ]
  },
  {
   "cell_type": "code",
   "execution_count": 35,
   "id": "7801a5df",
   "metadata": {},
   "outputs": [],
   "source": [
    "\n",
    "import numpy as np\n",
    "import matplotlib.pyplot as plt\n",
    "\n",
    "from matplotlib import rcParams\n",
    "from mpl_toolkits.mplot3d import Axes3D\n",
    "from scipy import integrate\n",
    "\n"
   ]
  },
  {
   "cell_type": "code",
   "execution_count": 36,
   "id": "4984bacd",
   "metadata": {},
   "outputs": [],
   "source": [
    "\n",
    "rcParams.update({'font.size': 18})\n",
    "plt.rcParams['figure.figsize'] = [12, 12]\n",
    "\n"
   ]
  },
  {
   "cell_type": "code",
   "execution_count": 37,
   "id": "406266ab",
   "metadata": {},
   "outputs": [],
   "source": [
    "\n",
    "\n",
    "## Simulate the Lorenz System\n",
    "\n",
    "dt    = 0.01\n",
    "T     = 50\n",
    "t     = np.arange(dt,T+dt,dt)\n",
    "beta  = 8/3\n",
    "sigma = 10\n",
    "rho   = 28\n",
    "n     = 3\n",
    "\n"
   ]
  },
  {
   "cell_type": "markdown",
   "id": "b77a9d8f",
   "metadata": {},
   "source": [
    "\n",
    "The goal is then to approximate $ f $ by a generalized LINEAR model\n",
    "\n",
    "$   f(x) \\approx  \\sum_{k=1}^{p} \\theta_k (x) \\xi_k = \\Theta (x)\\xi   $\n",
    "\n",
    "* with the fewest non-zero terms in $ \\xi $ as possible.\n",
    "* this is then solved via sparse regression\n",
    "* time series data is collected and forms the data matrix\n",
    "\n",
    "\n"
   ]
  },
  {
   "cell_type": "markdown",
   "id": "f49fc768",
   "metadata": {},
   "source": [
    "\n",
    "## First, time series data is collected and formed into matrix $ x $ \n",
    "\n",
    "* First, time series data is collected and formed into matrix $ x $ \n",
    "\n"
   ]
  },
  {
   "cell_type": "code",
   "execution_count": 38,
   "id": "479997d6",
   "metadata": {},
   "outputs": [],
   "source": [
    "\n",
    "def lorenz_deriv(x_y_z, t0, sigma=sigma, beta=beta, rho=rho):\n",
    "    x, y, z = x_y_z\n",
    "    return [sigma * (y - x), x * (rho - z) - y, x * y - beta * z]\n",
    "\n"
   ]
  },
  {
   "cell_type": "code",
   "execution_count": 39,
   "id": "14d7e602",
   "metadata": {},
   "outputs": [],
   "source": [
    "\n",
    "np.random.seed(123)\n",
    "x0 = (-8,8,27)\n",
    "\n",
    "x = integrate.odeint(\n",
    "          lorenz_deriv, \n",
    "          x0, \n",
    "          t,\n",
    "          rtol=10**(-12),\n",
    "          atol=10**(-12)*np.ones_like(x0)\n",
    ")\n"
   ]
  },
  {
   "cell_type": "code",
   "execution_count": 40,
   "id": "6be5eca1",
   "metadata": {},
   "outputs": [
    {
     "data": {
      "text/plain": [
       "(5000, 3)"
      ]
     },
     "execution_count": 40,
     "metadata": {},
     "output_type": "execute_result"
    }
   ],
   "source": [
    "\n",
    "x.shape\n"
   ]
  },
  {
   "cell_type": "markdown",
   "id": "59c2780e",
   "metadata": {},
   "source": [
    "\n",
    "## A similar matrix of derivatives is formed $ dx $\n",
    "\n",
    "* A similar matrix of derivatives is formed $ dx $\n"
   ]
  },
  {
   "cell_type": "code",
   "execution_count": 41,
   "id": "8bd77388",
   "metadata": {},
   "outputs": [],
   "source": [
    "\n",
    "## Compute Derivative\n",
    "dx = np.zeros_like(x)\n",
    "\n",
    "for j in range(len(t)):\n",
    "    dx[j,:] = lorenz_deriv( x[j,:], 0, sigma, beta, rho)\n"
   ]
  },
  {
   "cell_type": "code",
   "execution_count": 42,
   "id": "7f16a361",
   "metadata": {},
   "outputs": [
    {
     "data": {
      "text/plain": [
       "(5000, 3)"
      ]
     },
     "execution_count": 42,
     "metadata": {},
     "output_type": "execute_result"
    }
   ],
   "source": [
    "\n",
    "dx.shape\n"
   ]
  },
  {
   "cell_type": "markdown",
   "id": "fda39dab",
   "metadata": {},
   "source": [
    "\n",
    "## Library of candidate non-linear functions\n",
    "\n",
    "* A library of non-linear functions \n",
    "\n",
    "$  \\Theta(X)  $\n",
    "\n",
    "may be constructed from the data in $ X $ such as:\n",
    "\n",
    "$  \\Theta (X) = [1 , X , X^2,  ... ,  X^d,  sin(X),   ... ]  $\n",
    "\n",
    "\n",
    "* Here the matrix $ X^d $ denotes a matrix with column vectors given by all possible time series of dth-degree polynomials in the state $ x $. In general, this library of candidate functions is only limited by the imagination.  \n",
    "\n"
   ]
  },
  {
   "cell_type": "code",
   "execution_count": 43,
   "id": "8b2d9a60",
   "metadata": {},
   "outputs": [],
   "source": [
    "\n",
    "## SINDy Function polynomials\n",
    "## This generates the library of polynomials upto third order\n",
    "\n",
    "def poolData(yin,nVars,polyorder):\n",
    "    n = yin.shape[0]\n",
    "    yout = np.zeros((n,1))\n",
    "    \n",
    "    # poly order 0\n",
    "    yout[:,0] = np.ones(n)\n",
    "    \n",
    "    # poly order 1\n",
    "    for i in range(nVars):\n",
    "        yout = np.append(yout,yin[:,i].reshape((yin.shape[0],1)),axis=1)\n",
    "    \n",
    "    # poly order 2\n",
    "    if polyorder >= 2:\n",
    "        for i in range(nVars):\n",
    "            for j in range(i,nVars):\n",
    "                yout = np.append(yout,(yin[:,i]*yin[:,j]).reshape((yin.shape[0],1)),axis=1)\n",
    "                \n",
    "    # poly order 3\n",
    "    if polyorder >= 3:\n",
    "        for i in range(nVars):\n",
    "            for j in range(i,nVars):\n",
    "                for k in range(j,nVars):\n",
    "                    yout = np.append(yout,(yin[:,i]*yin[:,j]*yin[:,k]).reshape((yin.shape[0],1)),axis=1)\n",
    "    \n",
    "    return yout\n"
   ]
  },
  {
   "cell_type": "markdown",
   "id": "04118fc5",
   "metadata": {},
   "source": [
    "\n",
    "The dynamic system is now represented by \n",
    "\n",
    "$  X^{'} = \\Theta (X) \\Xi  $\n",
    "\n",
    "* where each column $   \\xi_k $ in $ \\Xi  $ is a vector of coefficients determining the active terms in the kth row in $ X^{'} $\n",
    "\n",
    "* The sequential threshold least-squares (STLS) algorithm is used to solve this \n"
   ]
  },
  {
   "cell_type": "markdown",
   "id": "52662004",
   "metadata": {},
   "source": [
    "\n",
    "## Optimization\n",
    "\n",
    "* uses:  np.linalg.lstsq()\n",
    "\n",
    "The loss has the form of:\n",
    "    \n",
    "$   \\large    \\xi_k = \\underset{\\xi^{'}_k }{argmin} \\lVert X^{'}_k  -  \\Theta (X) \\xi^{'}_k  \\rVert_2  + \\lambda \\lVert \\xi^{'}_k \\rVert $\n"
   ]
  },
  {
   "cell_type": "code",
   "execution_count": 44,
   "id": "2de12c87",
   "metadata": {},
   "outputs": [],
   "source": [
    "\n",
    "\n",
    "\n",
    "def sparsifyDynamics(Theta, dXdt, lamb, n):\n",
    "    \n",
    "    Xi = np.linalg.lstsq(Theta, dXdt,rcond=None)[0] # Initial guess: Least-squares\n",
    "    \n",
    "    for k in range(10):\n",
    "        smallinds = np.abs(Xi) < lamb # Find small coefficients\n",
    "        Xi[smallinds] = 0                          # and threshold\n",
    "        for ind in range(n):                       # n is state dimension\n",
    "            biginds = smallinds[:,ind] == 0\n",
    "            # Regress dynamics onto remaining terms to find sparse Xi\n",
    "            Xi[biginds,ind] = np.linalg.lstsq(Theta[:,biginds],dXdt[:,ind],rcond=None)[0]\n",
    "            \n",
    "    return Xi\n"
   ]
  },
  {
   "cell_type": "code",
   "execution_count": 45,
   "id": "81d3df7a",
   "metadata": {},
   "outputs": [
    {
     "data": {
      "text/plain": [
       "(20, 3)"
      ]
     },
     "execution_count": 45,
     "metadata": {},
     "output_type": "execute_result"
    }
   ],
   "source": [
    "\n",
    "Theta = poolData(x, n, 3) # Up to third order polynomials\n",
    "\n",
    "lamb  = 0.025 # sparsification knob lambda\n",
    "\n",
    "Xi    = sparsifyDynamics(Theta, dx, lamb, n)\n",
    "\n",
    "Xi.shape\n"
   ]
  },
  {
   "cell_type": "markdown",
   "id": "899651aa",
   "metadata": {},
   "source": [
    "\n",
    "## The resulting data in Xi can be used to discover the Lorenz Equations\n",
    "\n",
    "* Each row is a polinomial and the values below indicate which ones are connected to find the equations\n"
   ]
  },
  {
   "cell_type": "code",
   "execution_count": 46,
   "id": "a1b320e3",
   "metadata": {},
   "outputs": [
    {
     "name": "stdout",
     "output_type": "stream",
     "text": [
      "[[  0.           0.           0.        ]\n",
      " [-10.          28.           0.        ]\n",
      " [ 10.          -1.           0.        ]\n",
      " [  0.           0.          -2.66666667]\n",
      " [  0.           0.           0.        ]\n",
      " [  0.           0.           1.        ]\n",
      " [  0.          -1.           0.        ]\n",
      " [  0.           0.           0.        ]\n",
      " [  0.           0.           0.        ]\n",
      " [  0.           0.           0.        ]\n",
      " [  0.           0.           0.        ]\n",
      " [  0.           0.           0.        ]\n",
      " [  0.           0.           0.        ]\n",
      " [  0.           0.           0.        ]\n",
      " [  0.           0.           0.        ]\n",
      " [  0.           0.           0.        ]\n",
      " [  0.           0.           0.        ]\n",
      " [  0.           0.           0.        ]\n",
      " [  0.           0.           0.        ]\n",
      " [  0.           0.           0.        ]]\n"
     ]
    }
   ],
   "source": [
    "\n",
    "print(Xi)\n"
   ]
  },
  {
   "cell_type": "code",
   "execution_count": 47,
   "id": "012ee58e",
   "metadata": {},
   "outputs": [
    {
     "data": {
      "text/plain": [
       "(5000, 20)"
      ]
     },
     "execution_count": 47,
     "metadata": {},
     "output_type": "execute_result"
    }
   ],
   "source": [
    "\n",
    "Theta.shape\n"
   ]
  },
  {
   "cell_type": "code",
   "execution_count": 48,
   "id": "7aa75714",
   "metadata": {},
   "outputs": [
    {
     "data": {
      "text/plain": [
       "array([[ 1.00000000e+00, -8.00000000e+00,  8.00000000e+00, ...,\n",
       "         1.72800000e+03,  5.83200000e+03,  1.96830000e+04],\n",
       "       [ 1.00000000e+00, -6.48640305e+00,  7.80317052e+00, ...,\n",
       "         1.56641344e+03,  5.16415787e+03,  1.70252155e+04],\n",
       "       [ 1.00000000e+00, -5.13801768e+00,  7.56258900e+00, ...,\n",
       "         1.40744562e+03,  4.57985524e+03,  1.49029375e+04],\n",
       "       ...,\n",
       "       [ 1.00000000e+00,  1.74442140e+00,  4.88108249e+00, ...,\n",
       "         5.85115392e+02,  2.94397830e+03,  1.48124769e+04],\n",
       "       [ 1.00000000e+00,  2.04379883e+00,  4.90288321e+00, ...,\n",
       "         5.77019771e+02,  2.82505394e+03,  1.38312935e+04],\n",
       "       [ 1.00000000e+00,  2.31782009e+00,  4.94677848e+00, ...,\n",
       "         5.74536883e+02,  2.72689514e+03,  1.29425235e+04]])"
      ]
     },
     "execution_count": 48,
     "metadata": {},
     "output_type": "execute_result"
    }
   ],
   "source": [
    "\n",
    "Theta\n"
   ]
  },
  {
   "cell_type": "code",
   "execution_count": null,
   "id": "df79d299",
   "metadata": {},
   "outputs": [],
   "source": []
  },
  {
   "cell_type": "code",
   "execution_count": null,
   "id": "34b6001f",
   "metadata": {},
   "outputs": [],
   "source": []
  },
  {
   "cell_type": "code",
   "execution_count": null,
   "id": "79da534d",
   "metadata": {},
   "outputs": [],
   "source": []
  },
  {
   "cell_type": "code",
   "execution_count": null,
   "id": "d826f094",
   "metadata": {},
   "outputs": [],
   "source": []
  },
  {
   "cell_type": "code",
   "execution_count": null,
   "id": "edde757e",
   "metadata": {},
   "outputs": [],
   "source": []
  },
  {
   "cell_type": "code",
   "execution_count": null,
   "id": "5da0deff",
   "metadata": {},
   "outputs": [],
   "source": []
  }
 ],
 "metadata": {
  "kernelspec": {
   "display_name": "Python 3 (ipykernel)",
   "language": "python",
   "name": "python3"
  },
  "language_info": {
   "codemirror_mode": {
    "name": "ipython",
    "version": 3
   },
   "file_extension": ".py",
   "mimetype": "text/x-python",
   "name": "python",
   "nbconvert_exporter": "python",
   "pygments_lexer": "ipython3",
   "version": "3.7.16"
  }
 },
 "nbformat": 4,
 "nbformat_minor": 5
}
